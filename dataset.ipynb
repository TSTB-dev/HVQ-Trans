{
 "cells": [
  {
   "cell_type": "code",
   "execution_count": 1,
   "metadata": {},
   "outputs": [],
   "source": [
    "import os\n",
    "from pathlib import Path\n",
    "\n",
    "import json"
   ]
  },
  {
   "cell_type": "markdown",
   "metadata": {},
   "source": [
    "## Create train.json"
   ]
  },
  {
   "cell_type": "code",
   "execution_count": 2,
   "metadata": {},
   "outputs": [],
   "source": [
    "DATA_DIR = \"/home/sakai/projects/Reimpl/HVQ-Trans/HVQ-Trans/data/MVTec-LOCO/MVTecLOCO\"\n",
    "img_files = list(sorted(Path(DATA_DIR).rglob(\"*.png\")))\n",
    "\n",
    "# Extract only training data\n",
    "train_files = [str(f) for f in img_files if \"train/good\" in str(f)]\n",
    "\n",
    "# Replace base directory path\n",
    "train_files = [f.replace(DATA_DIR + \"/\", \"\") for f in train_files]\n",
    "\n",
    "# Extract class names\n",
    "class_names = [str(f).split(\"/\")[0] for f in train_files]\n",
    "\n",
    "# Save as json\n",
    "train_samples = []\n",
    "for i, f in enumerate(train_files):\n",
    "    train_samples.append(\n",
    "        {\n",
    "            \"filename\": f,\n",
    "            \"label\": 0,\n",
    "            \"label_name\": \"good\",\n",
    "            \"clsname\": class_names[i],\n",
    "        }\n",
    "    )\n",
    "\n",
    "save_path = Path(DATA_DIR).parent / \"train.json\"\n",
    "with open(save_path, \"w\") as f:\n",
    "    for entry in train_samples:\n",
    "        f.write(json.dumps(entry) + \"\\n\")\n"
   ]
  },
  {
   "cell_type": "markdown",
   "metadata": {},
   "source": [
    "## Create test.json"
   ]
  },
  {
   "cell_type": "code",
   "execution_count": 21,
   "metadata": {},
   "outputs": [],
   "source": [
    "# Extract only test data\n",
    "test_files = [str(f) for f in img_files if \"test\" in str(f)]\n",
    "test_files = [f for f in test_files if \"logical\" not in f]\n",
    "\n",
    "# Replace base directory path\n",
    "test_files = [f.replace(DATA_DIR + \"/\", \"\") for f in test_files]\n",
    "\n",
    "# Extract class names\n",
    "class_names = [str(f).split(\"/\")[0] for f in test_files]\n",
    "\n",
    "# Extract labels\n",
    "labels = [0 if \"good\" in f else 1 for f in test_files]\n",
    "label_names = [\"good\" if l == 0 else \"defective\" for l in labels]\n",
    "\n",
    "# Extract mask files\n",
    "anom_files = [f for i, f in enumerate(test_files) if labels[i] == 1]\n",
    "mask_dirs = [str(f).replace(\"test\", \"ground_truth\").replace(\".png\", \"\") for f in anom_files]\n",
    "# WARN: We only extract the first mask file\n",
    "filename = \"000.png\"\n",
    "mask_files = [f + \"/\" + filename for f in mask_dirs]\n",
    "\n",
    "# Save as json\n",
    "test_samples = []\n",
    "j = 0\n",
    "for i, f in enumerate(test_files):\n",
    "    sample = {\n",
    "        \"filename\": f,\n",
    "        \"label\": labels[i],\n",
    "        \"label_name\": label_names[i],\n",
    "        \"clsname\": class_names[i],\n",
    "    }\n",
    "    if labels[i] == 1:\n",
    "        sample[\"mask\"] = mask_files[j]\n",
    "        j += 1\n",
    "    test_samples.append(sample)\n",
    "\n",
    "save_path = Path(DATA_DIR).parent / \"test.json\"\n",
    "with open(save_path, \"w\") as f:\n",
    "    for entry in test_samples:\n",
    "        f.write(json.dumps(entry) + \"\\n\")\n"
   ]
  },
  {
   "cell_type": "code",
   "execution_count": 24,
   "metadata": {},
   "outputs": [
    {
     "data": {
      "text/plain": [
       "['screw_bag',\n",
       " 'juice_bottle',\n",
       " 'splicing_connectors',\n",
       " 'breakfast_box',\n",
       " 'pushpins']"
      ]
     },
     "execution_count": 24,
     "metadata": {},
     "output_type": "execute_result"
    }
   ],
   "source": [
    "# Get Category names\n",
    "categories = list(set(class_names))\n",
    "categories"
   ]
  },
  {
   "cell_type": "code",
   "execution_count": null,
   "metadata": {},
   "outputs": [],
   "source": []
  }
 ],
 "metadata": {
  "kernelspec": {
   "display_name": "Python 3 (ipykernel)",
   "language": "python",
   "name": "python3"
  },
  "language_info": {
   "codemirror_mode": {
    "name": "ipython",
    "version": 3
   },
   "file_extension": ".py",
   "mimetype": "text/x-python",
   "name": "python",
   "nbconvert_exporter": "python",
   "pygments_lexer": "ipython3",
   "version": "3.12.1"
  }
 },
 "nbformat": 4,
 "nbformat_minor": 2
}
